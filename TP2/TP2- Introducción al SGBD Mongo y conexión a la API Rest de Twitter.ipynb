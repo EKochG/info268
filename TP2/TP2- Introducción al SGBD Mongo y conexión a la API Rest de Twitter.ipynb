{
 "cells": [
  {
   "cell_type": "markdown",
   "metadata": {},
   "source": [
    "# TP2- Introducción al SGBD MongoDB y Conexión a la API Rest de Twitter"
   ]
  },
  {
   "cell_type": "markdown",
   "metadata": {},
   "source": [
    "En este trabajo práctico queremos descubrir las características del SGBD no relacional MongoDB. En este sentido, vamos a desarrollar un script que se conecta a la API Rest de Twitter para: 1) descargar datos al formato JSON, 2) almacenarlos en una base Mongo y 3) realizar algunas consultas sobre los datos."
   ]
  },
  {
   "cell_type": "markdown",
   "metadata": {},
   "source": [
    "## 1. Conectarse a la API Rest de Twitter"
   ]
  },
  {
   "cell_type": "markdown",
   "metadata": {},
   "source": [
    "- ¿Cómo crear una aplicación utilizando los datos de Twitter?: https://developer.twitter.com/en/docs/basics/getting-started\n",
    "- Crear una aplicación utilizando los datos de Twitter: https://apps.twitter.com/\n",
    "- ¿Qué deberían saber todos los desarrolladores antes de jugar con la API de twitter?: https://developer.twitter.com/en/docs/basics/things-every-developer-should-know"
   ]
  },
  {
   "cell_type": "code",
   "execution_count": 37,
   "metadata": {},
   "outputs": [
    {
     "name": "stdout",
     "output_type": "stream",
     "text": [
      "aaaaaaaaaaaaaaaaaaaaaaaaaaah\n"
     ]
    }
   ],
   "source": [
    "import tweepy\n",
    "from tweepy import *\n",
    "consumer_key=\"VrrWb0wDoG2YvkVOXY0krIdP1\"\n",
    "consumer_secret=\"LINi3AaqDBYD4OeYPV752WuKMMgPMSo1evUhOu0afQwjdaK5tL\"\n",
    "auth = tweepy.OAuthHandler(consumer_key, consumer_secret)\n",
    "access_token=\"976231636642779137-3usy7F6Misxicy7WLQA3wbUJckWtjEb\"\n",
    "access_token_secret=\"n5QG8GnHdWGNRCVNGTc8JSlqePbmi3dBuumhpWjknBKYG\"\n",
    "auth.set_access_token(access_token, access_token_secret)\n",
    "api = tweepy.API(auth)\n",
    "my_tweets = api.user_timeline(\"Elard_Koch\")\n",
    "print (my_tweets[0].text) #Muestra el ultimo tweet hecho por la cuenta Elard_Koch"
   ]
  },
  {
   "cell_type": "markdown",
   "metadata": {},
   "source": [
    "## 2. Consultar la API de Twitter"
   ]
  },
  {
   "cell_type": "markdown",
   "metadata": {},
   "source": [
    "- Utilizando una librería Python que permite enviar consultas HTTP a la API de Twitter, conectarse a un 'endpoint' de la API para leer datos. Ver la lista de los endpoints: https://developer.twitter.com/en/docs/tweets/post-and-engage/overview"
   ]
  },
  {
   "cell_type": "code",
   "execution_count": null,
   "metadata": {},
   "outputs": [
    {
     "name": "stdout",
     "output_type": "stream",
     "text": [
      "RT @fabriziocopano: Gracias hermano! Ahí nos vemos! https://t.co/kAaPp9qJf4\n",
      "401\n",
      "401\n",
      "401\n",
      "401\n",
      "401\n",
      "401\n"
     ]
    }
   ],
   "source": [
    "retweets_copano=api.retweets(\"976657933495762944\")\n",
    "print(retweets_copano[0].text)\n",
    "class MyListener(StreamListener):\n",
    "    def on_data(self,data):\n",
    "        try:\n",
    "            with open(\"Tweets.json\",\"a\") as f:\n",
    "                f.write(data)\n",
    "                return True\n",
    "        except BaseException as e:\n",
    "            print(e)\n",
    "        return True\n",
    "    def on_error(self,status):\n",
    "        print(status) #retorna errores 401 por falta de autorización actualmente\n",
    "        return True\n",
    "    \n",
    "twitter_stream=Stream(auth,MyListener())\n",
    "twitter_stream.filter(track=['#python']) #toma los twwet con el hashtag #cuandomevoyalacama"
   ]
  },
  {
   "cell_type": "markdown",
   "metadata": {},
   "source": [
    "## 3. Conectarse al SGBD Mongo"
   ]
  },
  {
   "cell_type": "markdown",
   "metadata": {},
   "source": [
    "- Conectarse a Mongo desde Python utilizando la librería adecuada"
   ]
  },
  {
   "cell_type": "code",
   "execution_count": null,
   "metadata": {},
   "outputs": [],
   "source": []
  },
  {
   "cell_type": "markdown",
   "metadata": {},
   "source": [
    "## 4. Escribir datos de Twitter en una Base de Datos Mongo"
   ]
  },
  {
   "cell_type": "code",
   "execution_count": null,
   "metadata": {
    "collapsed": true
   },
   "outputs": [],
   "source": [
    "..."
   ]
  }
 ],
 "metadata": {
  "kernelspec": {
   "display_name": "Python 3",
   "language": "python",
   "name": "python3"
  },
  "language_info": {
   "codemirror_mode": {
    "name": "ipython",
    "version": 3
   },
   "file_extension": ".py",
   "mimetype": "text/x-python",
   "name": "python",
   "nbconvert_exporter": "python",
   "pygments_lexer": "ipython3",
   "version": "3.5.2"
  }
 },
 "nbformat": 4,
 "nbformat_minor": 2
}
