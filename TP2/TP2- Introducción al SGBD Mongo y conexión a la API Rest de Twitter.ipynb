{
 "cells": [
  {
   "cell_type": "markdown",
   "metadata": {},
   "source": [
    "# TP2- Introducción al SGBD MongoDB y Conexión a la API Rest de Twitter"
   ]
  },
  {
   "cell_type": "markdown",
   "metadata": {},
   "source": [
    "En este trabajo práctico queremos descubrir las características del SGBD no relacional MongoDB. En este sentido, vamos a desarrollar un script que se conecta a la API Rest de Twitter para: 1) descargar datos al formato JSON, 2) almacenarlos en una base Mongo y 3) realizar algunas consultas sobre los datos."
   ]
  },
  {
   "cell_type": "markdown",
   "metadata": {},
   "source": [
    "## 1. Conectarse a la API Rest de Twitter"
   ]
  },
  {
   "cell_type": "markdown",
   "metadata": {},
   "source": [
    "- ¿Cómo crear una aplicación utilizando los datos de Twitter?: https://developer.twitter.com/en/docs/basics/getting-started\n",
    "- Crear una aplicación utilizando los datos de Twitter: https://apps.twitter.com/\n",
    "- ¿Qué deberían saber todos los desarrolladores antes de jugar con la API de twitter?: https://developer.twitter.com/en/docs/basics/things-every-developer-should-know"
   ]
  },
  {
   "cell_type": "code",
   "execution_count": 7,
   "metadata": {},
   "outputs": [
    {
     "name": "stdout",
     "output_type": "stream",
     "text": [
      "aaaaaaaaaaaaaaaaaaaaaaaaaaah\n"
     ]
    }
   ],
   "source": [
    "import tweepy\n",
    "from tweepy import *\n",
    "consumer_key=\"VrrWb0wDoG2YvkVOXY0krIdP1\"\n",
    "consumer_secret=\"LINi3AaqDBYD4OeYPV752WuKMMgPMSo1evUhOu0afQwjdaK5tL\"\n",
    "auth = tweepy.OAuthHandler(consumer_key, consumer_secret)\n",
    "access_token=\"976231636642779137-3usy7F6Misxicy7WLQA3wbUJckWtjEb\"\n",
    "access_token_secret=\"n5QG8GnHdWGNRCVNGTc8JSlqePbmi3dBuumhpWjknBKYG\"\n",
    "auth.set_access_token(access_token, access_token_secret)\n",
    "api = tweepy.API(auth)\n",
    "my_tweets = api.user_timeline(\"Elard_Koch\")\n",
    "print (my_tweets[0].text) #Muestra el ultimo tweet hecho por la cuenta Elard_Koch"
   ]
  },
  {
   "cell_type": "markdown",
   "metadata": {},
   "source": [
    "## 2. Consultar la API de Twitter"
   ]
  },
  {
   "cell_type": "markdown",
   "metadata": {},
   "source": [
    "- Utilizando una librería Python que permite enviar consultas HTTP a la API de Twitter, conectarse a un 'endpoint' de la API para leer datos. Ver la lista de los endpoints: https://developer.twitter.com/en/docs/tweets/post-and-engage/overview"
   ]
  },
  {
   "cell_type": "code",
   "execution_count": 31,
   "metadata": {},
   "outputs": [
    {
     "name": "stdout",
     "output_type": "stream",
     "text": [
      "RT @fabriziocopano: Gracias hermano! Ahí nos vemos! https://t.co/kAaPp9qJf4\n"
     ]
    },
    {
     "data": {
      "text/plain": [
       "'class MyListener(StreamListener):\\n    def on_data(self,data):\\n        try:\\n            with open(\"Tweets.json\",\"a\") as f:\\n                f.write(data)\\n                return True\\n        except BaseException as e:\\n            print(e)\\n        return True\\n    def on_error(self,status):\\n        print(status) #retorna errores 401 por falta de autorización actualmente\\n        return True\\n    \\ntwitter_stream=Stream(auth,MyListener())\\ntwitter_stream.filter(track=[\\'#python\\']) #toma los twwet con el hashtag #cuandomevoyalacama'"
      ]
     },
     "execution_count": 31,
     "metadata": {},
     "output_type": "execute_result"
    }
   ],
   "source": [
    "retweets_copano=api.retweets(\"976657933495762944\") #retweets se le puede ingresar el id del tweet y se mostraran todos los rewteets\n",
    "print(retweets_copano[0].text)\n",
    "\"\"\"class MyListener(StreamListener):\n",
    "    def on_data(self,data):\n",
    "        try:\n",
    "            with open(\"Tweets.json\",\"a\") as f:\n",
    "                f.write(data)\n",
    "                return True\n",
    "        except BaseException as e:\n",
    "            print(e)\n",
    "        return True\n",
    "    def on_error(self,status):\n",
    "        print(status) #retorna errores 401 por falta de autorización actualmente\n",
    "        return True\n",
    "    \n",
    "twitter_stream=Stream(auth,MyListener())\n",
    "twitter_stream.filter(track=['#python']) #toma los twwet con el hashtag #cuandomevoyalacama\"\"\""
   ]
  },
  {
   "cell_type": "markdown",
   "metadata": {},
   "source": [
    "## 3. Conectarse al SGBD Mongo"
   ]
  },
  {
   "cell_type": "markdown",
   "metadata": {},
   "source": [
    "- Conectarse a Mongo desde Python utilizando la librería adecuada"
   ]
  },
  {
   "cell_type": "code",
   "execution_count": 30,
   "metadata": {},
   "outputs": [
    {
     "name": "stdout",
     "output_type": "stream",
     "text": [
      "5ab40b19142cf4095e0c2279\n",
      "{'cosa': 'custion', '_id': ObjectId('5ab409a7142cf4095e0c2268')}\n",
      "{'cosa': 'custion', '_id': ObjectId('5ab409b6142cf4095e0c226a')}\n",
      "{'cosa': 'custion', '_id': ObjectId('5ab409cf142cf4095e0c226c')}\n",
      "{'cosa': 'custion', '_id': ObjectId('5ab40a1b142cf4095e0c226f')}\n",
      "{'cosa': 'custion', '_id': ObjectId('5ab40a42142cf4095e0c2271')}\n",
      "{'cosa': 'custion', '_id': ObjectId('5ab40a84142cf4095e0c2273')}\n",
      "{'cosa': 'custion', '_id': ObjectId('5ab40a9a142cf4095e0c2275')}\n",
      "{'cosa': 'custion', '_id': ObjectId('5ab40ab5142cf4095e0c2277')}\n",
      "{'cosa': 'custion', '_id': ObjectId('5ab40b19142cf4095e0c2279')}\n"
     ]
    }
   ],
   "source": [
    "import pymongo\n",
    "from pymongo import MongoClient\n",
    "\n",
    "client = MongoClient()\n",
    "db = client.test\n",
    "prueba=db.tax.insert_one({'cosa':'custion'})\n",
    "print(prueba.inserted_id)\n",
    "cursor=db.tax.find()\n",
    "for element in cursor:\n",
    "    print(element)\n"
   ]
  },
  {
   "cell_type": "markdown",
   "metadata": {},
   "source": [
    "## 4. Escribir datos de Twitter en una Base de Datos Mongo"
   ]
  },
  {
   "cell_type": "code",
   "execution_count": 37,
   "metadata": {},
   "outputs": [
    {
     "name": "stdout",
     "output_type": "stream",
     "text": [
      "{'tweet1': 'I am pleased to announce that, effective 4/9/18, @AmbJohnBolton will be my new National Security Advisor. I am very… https://t.co/dlRJSb9xW1', '_id': ObjectId('5ab40f1b142cf4095e0c227a')}\n",
      "{'tweet2': 'My honor Charlie - thank you! #MAGA https://t.co/ZbXFxNVMLP', '_id': ObjectId('5ab40f1b142cf4095e0c227b')}\n",
      "{'_id': ObjectId('5ab40f1b142cf4095e0c227c'), 'tweet3': 'As a candidate, I pledged that if elected I would use every lawful tool to combat unfair trade, protect American wo… https://t.co/nzeHdbTa5u'}\n",
      "{'tweet4': 'RT @FLOTUS: Greetings from @WhiteHouse https://t.co/mjuHFqglYz', '_id': ObjectId('5ab40f1b142cf4095e0c227d')}\n",
      "{'tweet5': 'Remember when they were saying, during the campaign, that Donald Trump is giving great speeches and drawing big cro… https://t.co/tmNjLRpLXI', '_id': ObjectId('5ab40f1b142cf4095e0c227e')}\n",
      "{'_id': ObjectId('5ab40f1b142cf4095e0c227f'), 'tweet6': 'Crazy Joe Biden is trying to act like a tough guy. Actually, he is weak, both mentally and physically, and yet he t… https://t.co/4e33ZxnAw7'}\n",
      "{'_id': ObjectId('5ab40f1b142cf4095e0c2280'), 'tweet7': 'Democrats refused to take care of DACA. Would have been so easy, but they just didn’t care. I had to fight for Military and start of Wall.'}\n",
      "{'_id': ObjectId('5ab40f1b142cf4095e0c2281'), 'tweet8': 'Got $1.6 Billion to start Wall on Southern Border, rest will be forthcoming. Most importantly, got $700 Billion to… https://t.co/0uCYCqGbgf'}\n",
      "{'tweet9': '.....They can help solve problems with North Korea, Syria, Ukraine, ISIS, Iran and even the coming Arms Race. Bush… https://t.co/hrZ6vrJjVC', '_id': ObjectId('5ab40f1b142cf4095e0c2282')}\n"
     ]
    }
   ],
   "source": [
    "tweets_donald_trump=api.user_timeline(\"realDonaldTrump\")\n",
    "for i in range(9):\n",
    "    db.tweetsofDonald.insert_one({\"tweet\"+str(i+1):tweets_donald_trump[i].text})\n",
    "cursor=db.tweetsofDonald.find()\n",
    "for element in cursor:\n",
    "    print(element)"
   ]
  }
 ],
 "metadata": {
  "kernelspec": {
   "display_name": "Python 3",
   "language": "python",
   "name": "python3"
  },
  "language_info": {
   "codemirror_mode": {
    "name": "ipython",
    "version": 3
   },
   "file_extension": ".py",
   "mimetype": "text/x-python",
   "name": "python",
   "nbconvert_exporter": "python",
   "pygments_lexer": "ipython3",
   "version": "3.5.2"
  }
 },
 "nbformat": 4,
 "nbformat_minor": 2
}
