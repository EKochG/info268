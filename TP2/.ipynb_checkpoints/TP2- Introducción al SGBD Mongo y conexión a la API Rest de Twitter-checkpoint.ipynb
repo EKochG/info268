{
 "cells": [
  {
   "cell_type": "markdown",
   "metadata": {},
   "source": [
    "# TP2- Introducción al SGBD MongoDB y Conexión a la API Rest de Twitter"
   ]
  },
  {
   "cell_type": "markdown",
   "metadata": {},
   "source": [
    "En este trabajo práctico queremos descubrir las características del SGBD no relacional MongoDB. En este sentido, vamos a desarrollar un script que se conecta a la API Rest de Twitter para: 1) descargar datos al formato JSON, 2) almacenarlos en una base Mongo y 3) realizar algunas consultas sobre los datos."
   ]
  },
  {
   "cell_type": "markdown",
   "metadata": {},
   "source": [
    "## 1. Conectarse a la API Rest de Twitter"
   ]
  },
  {
   "cell_type": "markdown",
   "metadata": {},
   "source": [
    "- ¿Cómo crear una aplicación utilizando los datos de Twitter?: https://developer.twitter.com/en/docs/basics/getting-started\n",
    "- Crear una aplicación utilizando los datos de Twitter: https://apps.twitter.com/\n",
    "- ¿Qué deberían saber todos los desarrolladores antes de jugar con la API de twitter?: https://developer.twitter.com/en/docs/basics/things-every-developer-should-know"
   ]
  },
  {
   "cell_type": "code",
   "execution_count": 1,
   "metadata": {},
   "outputs": [
    {
     "name": "stdout",
     "output_type": "stream",
     "text": [
      "aaaaaaaaaaaaaaaaaaaaaaaaaaah\n"
     ]
    }
   ],
   "source": [
    "import tweepy\n",
    "from tweepy import *\n",
    "consumer_key=\"VrrWb0wDoG2YvkVOXY0krIdP1\"\n",
    "consumer_secret=\"LINi3AaqDBYD4OeYPV752WuKMMgPMSo1evUhOu0afQwjdaK5tL\"\n",
    "auth = tweepy.OAuthHandler(consumer_key, consumer_secret)\n",
    "access_token=\"976231636642779137-3usy7F6Misxicy7WLQA3wbUJckWtjEb\"\n",
    "access_token_secret=\"n5QG8GnHdWGNRCVNGTc8JSlqePbmi3dBuumhpWjknBKYG\"\n",
    "auth.set_access_token(access_token, access_token_secret)\n",
    "api = tweepy.API(auth)\n",
    "my_tweets = api.user_timeline(\"Elard_Koch\")\n",
    "print (my_tweets[0].text) #Muestra el ultimo tweet hecho por la cuenta Elard_Koch"
   ]
  },
  {
   "cell_type": "markdown",
   "metadata": {},
   "source": [
    "## 2. Consultar la API de Twitter"
   ]
  },
  {
   "cell_type": "markdown",
   "metadata": {},
   "source": [
    "- Utilizando una librería Python que permite enviar consultas HTTP a la API de Twitter, conectarse a un 'endpoint' de la API para leer datos. Ver la lista de los endpoints: https://developer.twitter.com/en/docs/tweets/post-and-engage/overview"
   ]
  },
  {
   "cell_type": "code",
   "execution_count": 2,
   "metadata": {},
   "outputs": [
    {
     "name": "stdout",
     "output_type": "stream",
     "text": [
      "RT @fabriziocopano: Gracias hermano! Ahí nos vemos! https://t.co/kAaPp9qJf4\n"
     ]
    },
    {
     "data": {
      "text/plain": [
       "'class MyListener(StreamListener):\\n    def on_data(self,data):\\n        try:\\n            with open(\"Tweets.json\",\"a\") as f:\\n                f.write(data)\\n                return True\\n        except BaseException as e:\\n            print(e)\\n        return True\\n    def on_error(self,status):\\n        print(status) #retorna errores 401 por falta de autorización actualmente\\n        return True\\n    \\ntwitter_stream=Stream(auth,MyListener())\\ntwitter_stream.filter(track=[\\'#python\\']) #toma los twwet con el hashtag #cuandomevoyalacama'"
      ]
     },
     "execution_count": 2,
     "metadata": {},
     "output_type": "execute_result"
    }
   ],
   "source": [
    "retweets_copano=api.retweets(\"976657933495762944\") #retweets se le puede ingresar el id del tweet y se mostraran todos los rewteets\n",
    "print(retweets_copano[0].text)\n",
    "\"\"\"class MyListener(StreamListener):\n",
    "    def on_data(self,data):\n",
    "        try:\n",
    "            with open(\"Tweets.json\",\"a\") as f:\n",
    "                f.write(data)\n",
    "                return True\n",
    "        except BaseException as e:\n",
    "            print(e)\n",
    "        return True\n",
    "    def on_error(self,status):\n",
    "        print(status) #retorna errores 401 por falta de autorización actualmente\n",
    "        return True\n",
    "    \n",
    "twitter_stream=Stream(auth,MyListener())\n",
    "twitter_stream.filter(track=['#python']) #toma los twwet con el hashtag #cuandomevoyalacama\"\"\""
   ]
  },
  {
   "cell_type": "markdown",
   "metadata": {},
   "source": [
    "## 3. Conectarse al SGBD Mongo"
   ]
  },
  {
   "cell_type": "markdown",
   "metadata": {},
   "source": [
    "- Conectarse a Mongo desde Python utilizando la librería adecuada"
   ]
  },
  {
   "cell_type": "code",
   "execution_count": 3,
   "metadata": {},
   "outputs": [
    {
     "name": "stdout",
     "output_type": "stream",
     "text": [
      "5ac4cbf7a37c53168476b35d\n",
      "{'cosa': 'custion', '_id': ObjectId('5ac4cbf7a37c53168476b35d')}\n"
     ]
    }
   ],
   "source": [
    "import pymongo\n",
    "from pymongo import MongoClient\n",
    "\n",
    "client = MongoClient()\n",
    "db = client.test\n",
    "prueba=db.tax.insert_one({'cosa':'custion'})\n",
    "print(prueba.inserted_id)\n",
    "cursor=db.tax.find()\n",
    "for element in cursor:\n",
    "    print(element)\n"
   ]
  },
  {
   "cell_type": "markdown",
   "metadata": {},
   "source": [
    "## 4. Escribir datos de Twitter en una Base de Datos Mongo"
   ]
  },
  {
   "cell_type": "code",
   "execution_count": 37,
   "metadata": {},
   "outputs": [
    {
     "name": "stdout",
     "output_type": "stream",
     "text": [
      "2018-04-04 13:52:49\n",
      "RT @JAVALDIVIA: Con @JoseAMeadeK las mujeres serán el eje central del desarrollo en #BajaCaliforniaSur #AvanzarContigo #TúHacesGrandeABCS…\n",
      "BrendaVatierrav\n",
      "Lo inesperado es lo que te cambia la vida ❤️\n"
     ]
    },
    {
     "ename": "TypeError",
     "evalue": "object of type 'Cursor' has no len()",
     "output_type": "error",
     "traceback": [
      "\u001b[0;31m---------------------------------------------------------------------------\u001b[0m",
      "\u001b[0;31mTypeError\u001b[0m                                 Traceback (most recent call last)",
      "\u001b[0;32m<ipython-input-37-ad4a8ddf8f59>\u001b[0m in \u001b[0;36m<module>\u001b[0;34m()\u001b[0m\n\u001b[1;32m     11\u001b[0m \u001b[0;34m\u001b[0m\u001b[0m\n\u001b[1;32m     12\u001b[0m \u001b[0mcursor\u001b[0m\u001b[0;34m=\u001b[0m\u001b[0mdb\u001b[0m\u001b[0;34m.\u001b[0m\u001b[0mtp\u001b[0m\u001b[0;34m.\u001b[0m\u001b[0mfind\u001b[0m\u001b[0;34m(\u001b[0m\u001b[0;34m)\u001b[0m\u001b[0;34m\u001b[0m\u001b[0m\n\u001b[0;32m---> 13\u001b[0;31m \u001b[0mprint\u001b[0m\u001b[0;34m(\u001b[0m\u001b[0mlen\u001b[0m\u001b[0;34m(\u001b[0m\u001b[0mcursor\u001b[0m\u001b[0;34m)\u001b[0m\u001b[0;34m)\u001b[0m\u001b[0;34m\u001b[0m\u001b[0m\n\u001b[0m\u001b[1;32m     14\u001b[0m \u001b[0;32mfor\u001b[0m \u001b[0mel\u001b[0m \u001b[0;32min\u001b[0m \u001b[0mcursor\u001b[0m\u001b[0;34m:\u001b[0m\u001b[0;34m\u001b[0m\u001b[0m\n\u001b[1;32m     15\u001b[0m     \u001b[0mprint\u001b[0m\u001b[0;34m(\u001b[0m\u001b[0mel\u001b[0m\u001b[0;34m)\u001b[0m\u001b[0;34m\u001b[0m\u001b[0m\n",
      "\u001b[0;31mTypeError\u001b[0m: object of type 'Cursor' has no len()"
     ]
    }
   ],
   "source": [
    "ciudades=[\"Valdivia\",\"Temuco\",\"Santiago\",\"Ancud\",\"Angol\",\"Linares\",\"Vallenar\",\"Frutillar\",\"Penco\",\"Villarrica\"]\n",
    "tweets=api.search(q=\"Valdivia\",count=1)\n",
    "print(tweets[0].created_at)\n",
    "print(tweets[0].text)\n",
    "print(tweets[0].user.screen_name)\n",
    "print(tweets[0].user.description)\n",
    "a=0\n",
    "for i in ciudades:\n",
    "    tweets=api.search(q=i,count=50)\n",
    "    for j in range(len(tweets)):\n",
    "        db.tp.insert_one({'created_at':tweets[j].created_at,'text':tweets[j].text,'username':tweets[j].user.screen_name,'description':tweets[j].user.description,'location':i})\n",
    "\n",
    "cursor=db.tp.find()\n",
    "print(len(cursor))\n",
    "for el in cursor:\n",
    "    print(el)"
   ]
  },
  {
   "cell_type": "code",
   "execution_count": null,
   "metadata": {},
   "outputs": [],
   "source": []
  }
 ],
 "metadata": {
  "kernelspec": {
   "display_name": "Python 3",
   "language": "python",
   "name": "python3"
  },
  "language_info": {
   "codemirror_mode": {
    "name": "ipython",
    "version": 3
   },
   "file_extension": ".py",
   "mimetype": "text/x-python",
   "name": "python",
   "nbconvert_exporter": "python",
   "pygments_lexer": "ipython3",
   "version": "3.5.2"
  }
 },
 "nbformat": 4,
 "nbformat_minor": 2
}
