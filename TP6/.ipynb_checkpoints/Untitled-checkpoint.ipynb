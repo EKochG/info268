{
 "cells": [
  {
   "cell_type": "markdown",
   "metadata": {},
   "source": [
    "<b> Iniciar neo4j y preguntar su estado </b>"
   ]
  },
  {
   "cell_type": "code",
   "execution_count": 3,
   "metadata": {},
   "outputs": [
    {
     "name": "stdout",
     "output_type": "stream",
     "text": [
      "\u001b[0;1;32m●\u001b[0m neo4j.service - Neo4j Graph Database\r\n",
      "   Loaded: loaded (/lib/systemd/system/neo4j.service; disabled; vendor preset: enabled)\r\n",
      "   Active: \u001b[0;1;32mactive (running)\u001b[0m since dom 2018-07-29 12:33:46 -04; 6min ago\r\n",
      " Main PID: 15460 (java)\r\n",
      "   CGroup: /system.slice/neo4j.service\r\n",
      "           └─15460 /usr/bin/java -cp /var/lib/neo4j/plugins:/etc/neo4j:/usr/s...\r\n",
      "\r\n",
      "jul 29 12:36:17 elard-mate neo4j[15460]:         at java.util.concurrent.Thr...)\r\n",
      "jul 29 12:36:17 elard-mate neo4j[15460]:         at java.util.concurrent.Thr...)\r\n",
      "jul 29 12:36:17 elard-mate neo4j[15460]:         at java.lang.Thread.run(Thr...)\r\n",
      "jul 29 12:36:17 elard-mate neo4j[15460]: Caused by: org.neo4j.bolt.security.....\r\n",
      "jul 29 12:36:17 elard-mate neo4j[15460]:         at org.neo4j.bolt.security....)\r\n",
      "jul 29 12:36:17 elard-mate neo4j[15460]:         at org.neo4j.bolt.security....)\r\n",
      "jul 29 12:36:17 elard-mate neo4j[15460]:         at org.neo4j.bolt.v1.runtim...)\r\n",
      "jul 29 12:36:17 elard-mate neo4j[15460]:         at org.neo4j.bolt.v1.runtim...)\r\n",
      "jul 29 12:36:17 elard-mate neo4j[15460]:         ... 10 more\r\n",
      "jul 29 12:40:43 elard-mate systemd[1]: Started Neo4j Graph Database.\r\n",
      "Hint: Some lines were ellipsized, use -l to show in full.\r\n"
     ]
    }
   ],
   "source": [
    "!systemctl start neo4j.service\n",
    "!systemctl status neo4j.service"
   ]
  },
  {
   "cell_type": "code",
   "execution_count": 34,
   "metadata": {},
   "outputs": [
    {
     "data": {
      "text/plain": [
       "False"
      ]
     },
     "execution_count": 34,
     "metadata": {},
     "output_type": "execute_result"
    }
   ],
   "source": [
    "import py2neo\n",
    "from py2neo import Graph, Path,Node, Relationship\n",
    "\n",
    "graph = Graph(host='localhost', port=7687,user=\"neo4j\",password=\"p3dg24t56\")\n",
    "tx = graph.begin()\n",
    "for name in [\"Alice\", \"Bob\", \"Carol\"]:\n",
    "    a=Node(\"Person\",name=name)\n",
    "    tx.create(a)\n",
    "b=Node(\"Person\",name=\"asdasd\")\n",
    "tx.exists(b)"
   ]
  },
  {
   "cell_type": "code",
   "execution_count": null,
   "metadata": {},
   "outputs": [],
   "source": []
  }
 ],
 "metadata": {
  "kernelspec": {
   "display_name": "Python 3",
   "language": "python",
   "name": "python3"
  },
  "language_info": {
   "codemirror_mode": {
    "name": "ipython",
    "version": 3
   },
   "file_extension": ".py",
   "mimetype": "text/x-python",
   "name": "python",
   "nbconvert_exporter": "python",
   "pygments_lexer": "ipython3",
   "version": "3.5.2"
  }
 },
 "nbformat": 4,
 "nbformat_minor": 2
}
