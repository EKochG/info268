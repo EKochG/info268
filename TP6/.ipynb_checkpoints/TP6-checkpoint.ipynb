{
 "cells": [
  {
   "cell_type": "markdown",
   "metadata": {},
   "source": [
    "<b> Iniciar neo4j y preguntar su estado </b>"
   ]
  },
  {
   "cell_type": "code",
   "execution_count": 1,
   "metadata": {},
   "outputs": [
    {
     "name": "stdout",
     "output_type": "stream",
     "text": [
      "\u001b[0;1;32m●\u001b[0m neo4j.service - Neo4j Graph Database\r\n",
      "   Loaded: loaded (/lib/systemd/system/neo4j.service; disabled; vendor preset: enabled)\r\n",
      "   Active: \u001b[0;1;32mactive (running)\u001b[0m since lun 2018-07-30 17:44:44 -04; 129ms ago\r\n",
      " Main PID: 2013 (bash)\r\n",
      "   CGroup: /system.slice/neo4j.service\r\n",
      "           ├─2013 bash /usr/share/neo4j/bin/neo4j console\r\n",
      "           ├─2028 bash /usr/share/neo4j/bin/neo4j console\r\n",
      "           ├─2029 /usr/bin/java -version\r\n",
      "           └─2030 awk -F \" /version/ {print $2}\r\n",
      "\r\n",
      "jul 30 17:44:44 elard-mate systemd[1]: Started Neo4j Graph Database.\r\n"
     ]
    }
   ],
   "source": [
    "!systemctl start neo4j.service\n",
    "!systemctl status neo4j.service"
   ]
  },
  {
   "cell_type": "code",
   "execution_count": 2,
   "metadata": {},
   "outputs": [
    {
     "data": {
      "text/plain": [
       "False"
      ]
     },
     "execution_count": 2,
     "metadata": {},
     "output_type": "execute_result"
    }
   ],
   "source": [
    "import py2neo\n",
    "from py2neo import Graph, Path,Node, Relationship\n",
    "\n",
    "graph = Graph(host='localhost', port=7687,user=\"neo4j\",password=\"p3dg24t56\")\n",
    "tx = graph.begin()\n",
    "for name in [\"Alice\", \"Bob\", \"Carol\"]:\n",
    "    a=Node(\"Person\",name=name)\n",
    "    tx.create(a)\n",
    "b=Node(\"Person\",name=\"asdasd\")\n",
    "tx.exists(b)"
   ]
  },
  {
   "cell_type": "code",
   "execution_count": null,
   "metadata": {},
   "outputs": [],
   "source": []
  }
 ],
 "metadata": {
  "kernelspec": {
   "display_name": "Python 3",
   "language": "python",
   "name": "python3"
  },
  "language_info": {
   "codemirror_mode": {
    "name": "ipython",
    "version": 3
   },
   "file_extension": ".py",
   "mimetype": "text/x-python",
   "name": "python",
   "nbconvert_exporter": "python",
   "pygments_lexer": "ipython3",
   "version": "3.5.2"
  }
 },
 "nbformat": 4,
 "nbformat_minor": 2
}
