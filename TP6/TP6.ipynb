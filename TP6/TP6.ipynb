{
 "cells": [
  {
   "cell_type": "markdown",
   "metadata": {},
   "source": [
    "<b> Iniciar neo4j y preguntar su estado </b>"
   ]
  },
  {
   "cell_type": "code",
   "execution_count": 1,
   "metadata": {},
   "outputs": [
    {
     "name": "stdout",
     "output_type": "stream",
     "text": [
      "\u001b[0;1;32m●\u001b[0m neo4j.service - Neo4j Graph Database\r\n",
      "   Loaded: loaded (/lib/systemd/system/neo4j.service; disabled; vendor preset: enabled)\r\n",
      "   Active: \u001b[0;1;32mactive (running)\u001b[0m since lun 2018-07-30 18:25:33 -04; 128ms ago\r\n",
      " Main PID: 2095 (bash)\r\n",
      "   CGroup: /system.slice/neo4j.service\r\n",
      "           ├─2095 bash /usr/share/neo4j/bin/neo4j console\r\n",
      "           ├─2111 bash /usr/share/neo4j/bin/neo4j console\r\n",
      "           ├─2112 /usr/bin/java -version\r\n",
      "           └─2113 awk -F \" /version/ {print $2}\r\n",
      "\r\n",
      "jul 30 18:25:33 elard-mate systemd[1]: Started Neo4j Graph Database.\r\n"
     ]
    }
   ],
   "source": [
    "!systemctl start neo4j.service\n",
    "!systemctl status neo4j.service"
   ]
  },
  {
   "cell_type": "code",
   "execution_count": 4,
   "metadata": {},
   "outputs": [],
   "source": [
    "import py2neo\n",
    "from py2neo import Graph, Path,Node, Relationship\n",
    "\n",
    "graph = Graph(host='localhost', port=7687,user=\"neo4j\",password=\"p3dg24t56\")\n",
    "tx = graph.begin()\n",
    "lista=[\"Alice\", \"Bob\", \"Carol\",\"Mark\",\"Ultraman\"]\n",
    "nodelist=[]\n",
    "relations=[]\n",
    "for i in lista:\n",
    "    a=Node(\"human\",name=i)\n",
    "    nodelist.append(a)\n",
    "    tx.create(a)\n",
    "for j in range(len(nodelist)):\n",
    "    a=Relationship(nodelist[j%len(nodelist)],\"Miro\", nodelist[(j+1)%(len(nodelist))])\n",
    "    tx.create(a)\n",
    "    relations.append(a)\n",
    "\n",
    "\n",
    "\n"
   ]
  },
  {
   "cell_type": "code",
   "execution_count": 19,
   "metadata": {},
   "outputs": [
    {
     "data": {
      "text/html": [
       "<div>\n",
       "<style scoped>\n",
       "    .dataframe tbody tr th:only-of-type {\n",
       "        vertical-align: middle;\n",
       "    }\n",
       "\n",
       "    .dataframe tbody tr th {\n",
       "        vertical-align: top;\n",
       "    }\n",
       "\n",
       "    .dataframe thead th {\n",
       "        text-align: right;\n",
       "    }\n",
       "</style>\n",
       "<table border=\"1\" class=\"dataframe\">\n",
       "  <thead>\n",
       "    <tr style=\"text-align: right;\">\n",
       "      <th></th>\n",
       "      <th>a.name</th>\n",
       "    </tr>\n",
       "  </thead>\n",
       "  <tbody>\n",
       "    <tr>\n",
       "      <th>0</th>\n",
       "      <td>Bob</td>\n",
       "    </tr>\n",
       "    <tr>\n",
       "      <th>1</th>\n",
       "      <td>Mark</td>\n",
       "    </tr>\n",
       "    <tr>\n",
       "      <th>2</th>\n",
       "      <td>Carol</td>\n",
       "    </tr>\n",
       "    <tr>\n",
       "      <th>3</th>\n",
       "      <td>Alice</td>\n",
       "    </tr>\n",
       "    <tr>\n",
       "      <th>4</th>\n",
       "      <td>Ultraman</td>\n",
       "    </tr>\n",
       "  </tbody>\n",
       "</table>\n",
       "</div>"
      ],
      "text/plain": [
       "     a.name\n",
       "0       Bob\n",
       "1      Mark\n",
       "2     Carol\n",
       "3     Alice\n",
       "4  Ultraman"
      ]
     },
     "execution_count": 19,
     "metadata": {},
     "output_type": "execute_result"
    }
   ],
   "source": [
    "tx.run(\"MATCH (a:human) RETURN a.name\").to_data_frame()\n"
   ]
  },
  {
   "cell_type": "code",
   "execution_count": null,
   "metadata": {},
   "outputs": [],
   "source": []
  }
 ],
 "metadata": {
  "kernelspec": {
   "display_name": "Python 3",
   "language": "python",
   "name": "python3"
  },
  "language_info": {
   "codemirror_mode": {
    "name": "ipython",
    "version": 3
   },
   "file_extension": ".py",
   "mimetype": "text/x-python",
   "name": "python",
   "nbconvert_exporter": "python",
   "pygments_lexer": "ipython3",
   "version": "3.5.2"
  }
 },
 "nbformat": 4,
 "nbformat_minor": 2
}
