{
 "cells": [
  {
   "cell_type": "markdown",
   "metadata": {},
   "source": [
    "<b>1) A partir de los datos de 2017, dibujar un Scatter Plot que muestra la relación entre la variable “Happiness Score” y “Generosity”. \n",
    "ver: https://matplotlib.org/gallery/lines_bars_and_markers/scatter_with_legend.html </b>"
   ]
  },
  {
   "cell_type": "code",
   "execution_count": null,
   "metadata": {},
   "outputs": [],
   "source": []
  },
  {
   "cell_type": "markdown",
   "metadata": {},
   "source": [
    "<b> 2) En otros Scatter plots, mostrar la relación del “Happiness Score” con las variables “Trust (Government corruption)” y “Economy (GDP per capita)” </b>"
   ]
  },
  {
   "cell_type": "code",
   "execution_count": null,
   "metadata": {},
   "outputs": [],
   "source": []
  },
  {
   "cell_type": "markdown",
   "metadata": {},
   "source": [
    "<b>3) Utilizando una función “Group by”, ¿Cuál es puntaje promedio de cada variable por cada región del mundo? Visualizar el resultado con un histograma.\n",
    " </b>"
   ]
  },
  {
   "cell_type": "code",
   "execution_count": null,
   "metadata": {},
   "outputs": [],
   "source": []
  },
  {
   "cell_type": "markdown",
   "metadata": {},
   "source": [
    "<b>4) Utilizando una función “Merge” para agrupar los archivos 2015, 2016 y 2017, ¿Cómo se comporta la variable “Happiness Score” por cada país y por cada región del mundo? Visualizar el resultado con un line chart o un histograma.\n",
    " </b>"
   ]
  },
  {
   "cell_type": "code",
   "execution_count": null,
   "metadata": {},
   "outputs": [],
   "source": []
  },
  {
   "cell_type": "markdown",
   "metadata": {},
   "source": [
    "<b> 5) Utilizando una función de correlación disponible en Pandas, calcular cuál es el nivel de correlación entre cada variable. \n",
    "ver: http://pandas.pydata.org/pandas-docs/version/0.22/generated/pandas.DataFrame.corr.html\n",
    "</b>"
   ]
  },
  {
   "cell_type": "code",
   "execution_count": null,
   "metadata": {},
   "outputs": [],
   "source": []
  }
 ],
 "metadata": {
  "kernelspec": {
   "display_name": "Python 3",
   "language": "python",
   "name": "python3"
  },
  "language_info": {
   "codemirror_mode": {
    "name": "ipython",
    "version": 3
   },
   "file_extension": ".py",
   "mimetype": "text/x-python",
   "name": "python",
   "nbconvert_exporter": "python",
   "pygments_lexer": "ipython3",
   "version": "3.5.2"
  }
 },
 "nbformat": 4,
 "nbformat_minor": 2
}
